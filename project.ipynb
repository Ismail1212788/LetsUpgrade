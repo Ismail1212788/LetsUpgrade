{
  "nbformat": 4,
  "nbformat_minor": 0,
  "metadata": {
    "colab": {
      "name": "Untitled23.ipynb",
      "provenance": []
    },
    "kernelspec": {
      "name": "python3",
      "display_name": "Python 3"
    },
    "language_info": {
      "name": "python"
    }
  },
  "cells": [
    {
      "cell_type": "code",
      "execution_count": 43,
      "metadata": {
        "colab": {
          "base_uri": "https://localhost:8080/",
          "height": 278
        },
        "id": "jfZ2vpCHVI8r",
        "outputId": "d53323bc-8ab4-46a6-c050-1a6bfca152d9"
      },
      "outputs": [
        {
          "output_type": "stream",
          "name": "stderr",
          "text": [
            "[nltk_data] Downloading package punkt to /root/nltk_data...\n",
            "[nltk_data]   Package punkt is already up-to-date!\n",
            "/usr/local/lib/python3.7/dist-packages/ipykernel_launcher.py:24: FutureWarning: The default value of regex will change from True to False in a future version.\n"
          ]
        },
        {
          "output_type": "execute_result",
          "data": {
            "text/plain": [
              "                                               comments  \\\n",
              "9219  posÂ oppo f1s 64gb boht acha set hy mehngi meh...   \n",
              "9220                        posÂ camra b kamal ka haiÂ    \n",
              "9221  posÂ is mobile may tamam features honay k sath...   \n",
              "9222           posÂ v i p set hy btry timing kmal hy .    \n",
              "9223  posâ\n",
              "â\n",
              "â\n",
              "100 episodesâ\n",
              "â\n",
              "â\n",
              " mukammal ker...   \n",
              "\n",
              "                                    without_punctuation Result  \n",
              "9219   oppo fs gb boht acha set hy mehngi mehngi set...    pos  \n",
              "9220                              camra b kamal ka hai     pos  \n",
              "9221   is mobile may tamam features honay k sath sat...    pos  \n",
              "9222                 v i p set hy btry timing kmal hy      pos  \n",
              "9223  \n",
              "\n",
              "\n",
              " episodes\n",
              "\n",
              "\n",
              " mukammal kerliye is lya bohat ...    pos  "
            ],
            "text/html": [
              "\n",
              "  <div id=\"df-474cf926-a889-415c-a95e-53bcb2ad73e7\">\n",
              "    <div class=\"colab-df-container\">\n",
              "      <div>\n",
              "<style scoped>\n",
              "    .dataframe tbody tr th:only-of-type {\n",
              "        vertical-align: middle;\n",
              "    }\n",
              "\n",
              "    .dataframe tbody tr th {\n",
              "        vertical-align: top;\n",
              "    }\n",
              "\n",
              "    .dataframe thead th {\n",
              "        text-align: right;\n",
              "    }\n",
              "</style>\n",
              "<table border=\"1\" class=\"dataframe\">\n",
              "  <thead>\n",
              "    <tr style=\"text-align: right;\">\n",
              "      <th></th>\n",
              "      <th>comments</th>\n",
              "      <th>without_punctuation</th>\n",
              "      <th>Result</th>\n",
              "    </tr>\n",
              "  </thead>\n",
              "  <tbody>\n",
              "    <tr>\n",
              "      <th>9219</th>\n",
              "      <td>posÂ oppo f1s 64gb boht acha set hy mehngi meh...</td>\n",
              "      <td>oppo fs gb boht acha set hy mehngi mehngi set...</td>\n",
              "      <td>pos</td>\n",
              "    </tr>\n",
              "    <tr>\n",
              "      <th>9220</th>\n",
              "      <td>posÂ camra b kamal ka haiÂ</td>\n",
              "      <td>camra b kamal ka hai</td>\n",
              "      <td>pos</td>\n",
              "    </tr>\n",
              "    <tr>\n",
              "      <th>9221</th>\n",
              "      <td>posÂ is mobile may tamam features honay k sath...</td>\n",
              "      <td>is mobile may tamam features honay k sath sat...</td>\n",
              "      <td>pos</td>\n",
              "    </tr>\n",
              "    <tr>\n",
              "      <th>9222</th>\n",
              "      <td>posÂ v i p set hy btry timing kmal hy .</td>\n",
              "      <td>v i p set hy btry timing kmal hy</td>\n",
              "      <td>pos</td>\n",
              "    </tr>\n",
              "    <tr>\n",
              "      <th>9223</th>\n",
              "      <td>posâââ100 episodesâââ mukammal ker...</td>\n",
              "      <td>episodes mukammal kerliye is lya bohat ...</td>\n",
              "      <td>pos</td>\n",
              "    </tr>\n",
              "  </tbody>\n",
              "</table>\n",
              "</div>\n",
              "      <button class=\"colab-df-convert\" onclick=\"convertToInteractive('df-474cf926-a889-415c-a95e-53bcb2ad73e7')\"\n",
              "              title=\"Convert this dataframe to an interactive table.\"\n",
              "              style=\"display:none;\">\n",
              "        \n",
              "  <svg xmlns=\"http://www.w3.org/2000/svg\" height=\"24px\"viewBox=\"0 0 24 24\"\n",
              "       width=\"24px\">\n",
              "    <path d=\"M0 0h24v24H0V0z\" fill=\"none\"/>\n",
              "    <path d=\"M18.56 5.44l.94 2.06.94-2.06 2.06-.94-2.06-.94-.94-2.06-.94 2.06-2.06.94zm-11 1L8.5 8.5l.94-2.06 2.06-.94-2.06-.94L8.5 2.5l-.94 2.06-2.06.94zm10 10l.94 2.06.94-2.06 2.06-.94-2.06-.94-.94-2.06-.94 2.06-2.06.94z\"/><path d=\"M17.41 7.96l-1.37-1.37c-.4-.4-.92-.59-1.43-.59-.52 0-1.04.2-1.43.59L10.3 9.45l-7.72 7.72c-.78.78-.78 2.05 0 2.83L4 21.41c.39.39.9.59 1.41.59.51 0 1.02-.2 1.41-.59l7.78-7.78 2.81-2.81c.8-.78.8-2.07 0-2.86zM5.41 20L4 18.59l7.72-7.72 1.47 1.35L5.41 20z\"/>\n",
              "  </svg>\n",
              "      </button>\n",
              "      \n",
              "  <style>\n",
              "    .colab-df-container {\n",
              "      display:flex;\n",
              "      flex-wrap:wrap;\n",
              "      gap: 12px;\n",
              "    }\n",
              "\n",
              "    .colab-df-convert {\n",
              "      background-color: #E8F0FE;\n",
              "      border: none;\n",
              "      border-radius: 50%;\n",
              "      cursor: pointer;\n",
              "      display: none;\n",
              "      fill: #1967D2;\n",
              "      height: 32px;\n",
              "      padding: 0 0 0 0;\n",
              "      width: 32px;\n",
              "    }\n",
              "\n",
              "    .colab-df-convert:hover {\n",
              "      background-color: #E2EBFA;\n",
              "      box-shadow: 0px 1px 2px rgba(60, 64, 67, 0.3), 0px 1px 3px 1px rgba(60, 64, 67, 0.15);\n",
              "      fill: #174EA6;\n",
              "    }\n",
              "\n",
              "    [theme=dark] .colab-df-convert {\n",
              "      background-color: #3B4455;\n",
              "      fill: #D2E3FC;\n",
              "    }\n",
              "\n",
              "    [theme=dark] .colab-df-convert:hover {\n",
              "      background-color: #434B5C;\n",
              "      box-shadow: 0px 1px 3px 1px rgba(0, 0, 0, 0.15);\n",
              "      filter: drop-shadow(0px 1px 2px rgba(0, 0, 0, 0.3));\n",
              "      fill: #FFFFFF;\n",
              "    }\n",
              "  </style>\n",
              "\n",
              "      <script>\n",
              "        const buttonEl =\n",
              "          document.querySelector('#df-474cf926-a889-415c-a95e-53bcb2ad73e7 button.colab-df-convert');\n",
              "        buttonEl.style.display =\n",
              "          google.colab.kernel.accessAllowed ? 'block' : 'none';\n",
              "\n",
              "        async function convertToInteractive(key) {\n",
              "          const element = document.querySelector('#df-474cf926-a889-415c-a95e-53bcb2ad73e7');\n",
              "          const dataTable =\n",
              "            await google.colab.kernel.invokeFunction('convertToInteractive',\n",
              "                                                     [key], {});\n",
              "          if (!dataTable) return;\n",
              "\n",
              "          const docLinkHtml = 'Like what you see? Visit the ' +\n",
              "            '<a target=\"_blank\" href=https://colab.research.google.com/notebooks/data_table.ipynb>data table notebook</a>'\n",
              "            + ' to learn more about interactive tables.';\n",
              "          element.innerHTML = '';\n",
              "          dataTable['output_type'] = 'display_data';\n",
              "          await google.colab.output.renderOutput(dataTable, element);\n",
              "          const docLink = document.createElement('div');\n",
              "          docLink.innerHTML = docLinkHtml;\n",
              "          element.appendChild(docLink);\n",
              "        }\n",
              "      </script>\n",
              "    </div>\n",
              "  </div>\n",
              "  "
            ]
          },
          "metadata": {},
          "execution_count": 43
        }
      ],
      "source": [
        "import pandas as pd\n",
        "import nltk\n",
        "import re as re\n",
        "nltk.download('punkt')\n",
        "import numpy as np\n",
        "import matplotlib.pyplot as plt\n",
        "import pandas as pd\n",
        "from sklearn.preprocessing import LabelEncoder,OneHotEncoder\n",
        "from nltk.stem.porter import PorterStemmer\n",
        "import nltk\n",
        "from nltk.stem import WordNetLemmatizer\n",
        "import pandas as pd\n",
        "from sklearn.feature_extraction.text import ENGLISH_STOP_WORDS, TfidfVectorizer\n",
        "from sklearn.linear_model import LogisticRegression\n",
        "from sklearn.pipeline import Pipeline\n",
        "from sklearn.metrics import f1_score\n",
        "from sklearn.model_selection import train_test_split\n",
        "\n",
        "\n",
        "df = pd.read_csv('dataset/Dataset 11000 Reviews.csv', on_bad_lines='skip',encoding=\"ISO-8859-1\", header=None)\n",
        "df.head(20)\n",
        "df.columns =['comments']\n",
        "df=df.replace(to_replace=[r\"\\\\t|\\\\n|\\\\r\", \"\\t|\\n|\\r\"], value=[\"\",\"\"], regex=True)\n",
        "df['without_punctuation']=df['comments'].str.replace(r'[^A-Za-z\\s]+', '')\n",
        "df['Result'] = df['without_punctuation'].str[:3]\n",
        "df['without_punctuation'] = df['without_punctuation'].str[3:]\n",
        "df.tail(5)\n",
        "\n",
        "\n"
      ]
    },
    {
      "cell_type": "code",
      "source": [
        "Pos = df[df['Result'] == 'pos'].shape[0]\n",
        "Neg = df[df['Result'] == 'neg'].shape[0]\n",
        "\n",
        "plt.bar(10,Pos,3, label=\"Positve\")\n",
        "plt.bar(15,Neg,3, label=\"Negative\")\n",
        "\n",
        "plt.legend()\n",
        "plt.ylabel('Number of examples')\n",
        "plt.title('Proportion of examples')\n",
        "plt.show()\n"
      ],
      "metadata": {
        "colab": {
          "base_uri": "https://localhost:8080/",
          "height": 281
        },
        "id": "3GjeQKxJVPmS",
        "outputId": "0fafa725-7618-4147-ba92-9446e326f1a5"
      },
      "execution_count": 44,
      "outputs": [
        {
          "output_type": "display_data",
          "data": {
            "text/plain": [
              "<Figure size 432x288 with 1 Axes>"
            ],
            "image/png": "[encoded data removed]"
          },
          "metadata": {
            "needs_background": "light"
          }
        }
      ]
    },
    {
      "cell_type": "code",
      "source": [
        "from nltk.corpus import stopwords\n",
        "nltk.download('stopwords')\n",
        "stop = stopwords.words('english')\n",
        "\n",
        "\n",
        "stopwords=['ai', 'ayi', 'hy', 'hai', 'main', 'ki', 'tha', 'koi', 'ko', 'sy', 'woh', 'bhi', 'aur', 'wo', 'yeh', 'rha', 'hota', 'ho', 'ga', 'ka', 'le', 'lye', 'kr', 'kar', 'lye', 'liye', 'hotay', 'waisay', 'gya', 'gaya', 'kch', 'ab', 'thy', 'thay', 'houn', 'hain', 'han', 'to', 'is', 'hi', 'jo', 'kya', 'thi', 'se', 'pe', 'phr', 'wala', 'waisay', 'us', 'na', 'ny', 'hun', 'rha', 'raha', 'ja', 'rahay', 'abi', 'uski', 'ne', 'haan', 'acha', 'nai', 'sent', 'photo', 'you', 'kafi', 'gai', 'rhy', 'kuch', 'jata', 'aye', 'ya', 'dono', 'hoa', 'aese', 'de', 'wohi', 'jati', 'jb', 'krta', 'lg', 'rahi', 'hui', 'karna', 'krna', 'gi', 'hova', 'yehi', 'jana', 'jye', 'chal', 'mil', 'tu', 'hum', 'par', 'hay', 'kis', 'sb', 'gy', 'dain', 'krny', 'tou']\n",
        "\n",
        "stop_extended =  stopwords\n",
        "df['without_stop_words'] = df['without_punctuation'].apply(lambda x: ' '.join([word for word in x.split() if word not in stop_extended]))\n",
        "\n",
        "df.head(10)"
      ],
      "metadata": {
        "colab": {
          "base_uri": "https://localhost:8080/",
          "height": 615
        },
        "id": "J9MrxJVbVPg1",
        "outputId": "0f6af9ff-ea48-4db3-c8b8-ade4b3e607ac"
      },
      "execution_count": 45,
      "outputs": [
        {
          "output_type": "stream",
          "name": "stderr",
          "text": [
            "[nltk_data] Downloading package stopwords to /root/nltk_data...\n",
            "[nltk_data]   Package stopwords is already up-to-date!\n"
          ]
        },
        {
          "output_type": "execute_result",
          "data": {
            "text/plain": [
              "                                            comments  \\\n",
              "0  ï»¿neg ab achanak khawaja saad rafique ko khiy...   \n",
              "1        neg choor kasuri choor jhootay ka moo kaala   \n",
              "2  neg gali gali mein shor hai gaaanjaaaa shair c...   \n",
              "3  neg hum kia aur hamari logic kia bhonkoon k mu...   \n",
              "4  neg imran khan altaf hussain chachoo haroon ab...   \n",
              "5  neg lagta ha sab bhonkay hath xaray kar rahay ...   \n",
              "6  neg merey bahi tum saye kaha rahey hoo but mai...   \n",
              "7  neg nawaz khanzaaney ka moun khul chukaa hai s...   \n",
              "8  neg pakistan mai samsung ke jo models new avai...   \n",
              "9  neg sharifoon ko tau pehley b baray galeez gal...   \n",
              "\n",
              "                                 without_punctuation Result  \\\n",
              "0   ab achanak khawaja saad rafique ko khiyaal aa...    neg   \n",
              "1            choor kasuri choor jhootay ka moo kaala    neg   \n",
              "2   gali gali mein shor hai gaaanjaaaa shair chor...    neg   \n",
              "3   hum kia aur hamari logic kia bhonkoon k muted...    neg   \n",
              "4   imran khan altaf hussain chachoo haroon ab sa...    neg   \n",
              "5   lagta ha sab bhonkay hath xaray kar rahay hei...    neg   \n",
              "6   merey bahi tum saye kaha rahey hoo but main t...    neg   \n",
              "7   nawaz khanzaaney ka moun khul chukaa hai sab ...    neg   \n",
              "8   pakistan mai samsung ke jo models new availab...    neg   \n",
              "9   sharifoon ko tau pehley b baray galeez galain...    neg   \n",
              "\n",
              "                                  without_stop_words  \n",
              "0  achanak khawaja saad rafique khiyaal aagaya bh...  \n",
              "1               choor kasuri choor jhootay moo kaala  \n",
              "2          gali gali mein shor gaaanjaaaa shair chor  \n",
              "3  kia hamari logic kia bhonkoon k muted bhonk an...  \n",
              "4  imran khan altaf hussain chachoo haroon sadmey...  \n",
              "5  lagta ha sab bhonkay hath xaray hein k panama ...  \n",
              "6  merey bahi tum saye kaha rahey hoo but tum ku ...  \n",
              "7     nawaz khanzaaney moun khul chukaa sab kha rahy  \n",
              "8  pakistan mai samsung ke models new available s...  \n",
              "9  sharifoon tau pehley b baray galeez galain det...  "
            ],
            "text/html": [
              "\n",
              "  <div id=\"df-2bd411f4-bde4-46eb-805f-63cbc8061f45\">\n",
              "    <div class=\"colab-df-container\">\n",
              "      <div>\n",
              "<style scoped>\n",
              "    .dataframe tbody tr th:only-of-type {\n",
              "        vertical-align: middle;\n",
              "    }\n",
              "\n",
              "    .dataframe tbody tr th {\n",
              "        vertical-align: top;\n",
              "    }\n",
              "\n",
              "    .dataframe thead th {\n",
              "        text-align: right;\n",
              "    }\n",
              "</style>\n",
              "<table border=\"1\" class=\"dataframe\">\n",
              "  <thead>\n",
              "    <tr style=\"text-align: right;\">\n",
              "      <th></th>\n",
              "      <th>comments</th>\n",
              "      <th>without_punctuation</th>\n",
              "      <th>Result</th>\n",
              "      <th>without_stop_words</th>\n",
              "    </tr>\n",
              "  </thead>\n",
              "  <tbody>\n",
              "    <tr>\n",
              "      <th>0</th>\n",
              "      <td>ï»¿neg ab achanak khawaja saad rafique ko khiy...</td>\n",
              "      <td>ab achanak khawaja saad rafique ko khiyaal aa...</td>\n",
              "      <td>neg</td>\n",
              "      <td>achanak khawaja saad rafique khiyaal aagaya bh...</td>\n",
              "    </tr>\n",
              "    <tr>\n",
              "      <th>1</th>\n",
              "      <td>neg choor kasuri choor jhootay ka moo kaala</td>\n",
              "      <td>choor kasuri choor jhootay ka moo kaala</td>\n",
              "      <td>neg</td>\n",
              "      <td>choor kasuri choor jhootay moo kaala</td>\n",
              "    </tr>\n",
              "    <tr>\n",
              "      <th>2</th>\n",
              "      <td>neg gali gali mein shor hai gaaanjaaaa shair c...</td>\n",
              "      <td>gali gali mein shor hai gaaanjaaaa shair chor...</td>\n",
              "      <td>neg</td>\n",
              "      <td>gali gali mein shor gaaanjaaaa shair chor</td>\n",
              "    </tr>\n",
              "    <tr>\n",
              "      <th>3</th>\n",
              "      <td>neg hum kia aur hamari logic kia bhonkoon k mu...</td>\n",
              "      <td>hum kia aur hamari logic kia bhonkoon k muted...</td>\n",
              "      <td>neg</td>\n",
              "      <td>kia hamari logic kia bhonkoon k muted bhonk an...</td>\n",
              "    </tr>\n",
              "    <tr>\n",
              "      <th>4</th>\n",
              "      <td>neg imran khan altaf hussain chachoo haroon ab...</td>\n",
              "      <td>imran khan altaf hussain chachoo haroon ab sa...</td>\n",
              "      <td>neg</td>\n",
              "      <td>imran khan altaf hussain chachoo haroon sadmey...</td>\n",
              "    </tr>\n",
              "    <tr>\n",
              "      <th>5</th>\n",
              "      <td>neg lagta ha sab bhonkay hath xaray kar rahay ...</td>\n",
              "      <td>lagta ha sab bhonkay hath xaray kar rahay hei...</td>\n",
              "      <td>neg</td>\n",
              "      <td>lagta ha sab bhonkay hath xaray hein k panama ...</td>\n",
              "    </tr>\n",
              "    <tr>\n",
              "      <th>6</th>\n",
              "      <td>neg merey bahi tum saye kaha rahey hoo but mai...</td>\n",
              "      <td>merey bahi tum saye kaha rahey hoo but main t...</td>\n",
              "      <td>neg</td>\n",
              "      <td>merey bahi tum saye kaha rahey hoo but tum ku ...</td>\n",
              "    </tr>\n",
              "    <tr>\n",
              "      <th>7</th>\n",
              "      <td>neg nawaz khanzaaney ka moun khul chukaa hai s...</td>\n",
              "      <td>nawaz khanzaaney ka moun khul chukaa hai sab ...</td>\n",
              "      <td>neg</td>\n",
              "      <td>nawaz khanzaaney moun khul chukaa sab kha rahy</td>\n",
              "    </tr>\n",
              "    <tr>\n",
              "      <th>8</th>\n",
              "      <td>neg pakistan mai samsung ke jo models new avai...</td>\n",
              "      <td>pakistan mai samsung ke jo models new availab...</td>\n",
              "      <td>neg</td>\n",
              "      <td>pakistan mai samsung ke models new available s...</td>\n",
              "    </tr>\n",
              "    <tr>\n",
              "      <th>9</th>\n",
              "      <td>neg sharifoon ko tau pehley b baray galeez gal...</td>\n",
              "      <td>sharifoon ko tau pehley b baray galeez galain...</td>\n",
              "      <td>neg</td>\n",
              "      <td>sharifoon tau pehley b baray galeez galain det...</td>\n",
              "    </tr>\n",
              "  </tbody>\n",
              "</table>\n",
              "</div>\n",
              "      <button class=\"colab-df-convert\" onclick=\"convertToInteractive('df-2bd411f4-bde4-46eb-805f-63cbc8061f45')\"\n",
              "              title=\"Convert this dataframe to an interactive table.\"\n",
              "              style=\"display:none;\">\n",
              "        \n",
              "  <svg xmlns=\"http://www.w3.org/2000/svg\" height=\"24px\"viewBox=\"0 0 24 24\"\n",
              "       width=\"24px\">\n",
              "    <path d=\"M0 0h24v24H0V0z\" fill=\"none\"/>\n",
              "    <path d=\"M18.56 5.44l.94 2.06.94-2.06 2.06-.94-2.06-.94-.94-2.06-.94 2.06-2.06.94zm-11 1L8.5 8.5l.94-2.06 2.06-.94-2.06-.94L8.5 2.5l-.94 2.06-2.06.94zm10 10l.94 2.06.94-2.06 2.06-.94-2.06-.94-.94-2.06-.94 2.06-2.06.94z\"/><path d=\"M17.41 7.96l-1.37-1.37c-.4-.4-.92-.59-1.43-.59-.52 0-1.04.2-1.43.59L10.3 9.45l-7.72 7.72c-.78.78-.78 2.05 0 2.83L4 21.41c.39.39.9.59 1.41.59.51 0 1.02-.2 1.41-.59l7.78-7.78 2.81-2.81c.8-.78.8-2.07 0-2.86zM5.41 20L4 18.59l7.72-7.72 1.47 1.35L5.41 20z\"/>\n",
              "  </svg>\n",
              "      </button>\n",
              "      \n",
              "  <style>\n",
              "    .colab-df-container {\n",
              "      display:flex;\n",
              "      flex-wrap:wrap;\n",
              "      gap: 12px;\n",
              "    }\n",
              "\n",
              "    .colab-df-convert {\n",
              "      background-color: #E8F0FE;\n",
              "      border: none;\n",
              "      border-radius: 50%;\n",
              "      cursor: pointer;\n",
              "      display: none;\n",
              "      fill: #1967D2;\n",
              "      height: 32px;\n",
              "      padding: 0 0 0 0;\n",
              "      width: 32px;\n",
              "    }\n",
              "\n",
              "    .colab-df-convert:hover {\n",
              "      background-color: #E2EBFA;\n",
              "      box-shadow: 0px 1px 2px rgba(60, 64, 67, 0.3), 0px 1px 3px 1px rgba(60, 64, 67, 0.15);\n",
              "      fill: #174EA6;\n",
              "    }\n",
              "\n",
              "    [theme=dark] .colab-df-convert {\n",
              "      background-color: #3B4455;\n",
              "      fill: #D2E3FC;\n",
              "    }\n",
              "\n",
              "    [theme=dark] .colab-df-convert:hover {\n",
              "      background-color: #434B5C;\n",
              "      box-shadow: 0px 1px 3px 1px rgba(0, 0, 0, 0.15);\n",
              "      filter: drop-shadow(0px 1px 2px rgba(0, 0, 0, 0.3));\n",
              "      fill: #FFFFFF;\n",
              "    }\n",
              "  </style>\n",
              "\n",
              "      <script>\n",
              "        const buttonEl =\n",
              "          document.querySelector('#df-2bd411f4-bde4-46eb-805f-63cbc8061f45 button.colab-df-convert');\n",
              "        buttonEl.style.display =\n",
              "          google.colab.kernel.accessAllowed ? 'block' : 'none';\n",
              "\n",
              "        async function convertToInteractive(key) {\n",
              "          const element = document.querySelector('#df-2bd411f4-bde4-46eb-805f-63cbc8061f45');\n",
              "          const dataTable =\n",
              "            await google.colab.kernel.invokeFunction('convertToInteractive',\n",
              "                                                     [key], {});\n",
              "          if (!dataTable) return;\n",
              "\n",
              "          const docLinkHtml = 'Like what you see? Visit the ' +\n",
              "            '<a target=\"_blank\" href=https://colab.research.google.com/notebooks/data_table.ipynb>data table notebook</a>'\n",
              "            + ' to learn more about interactive tables.';\n",
              "          element.innerHTML = '';\n",
              "          dataTable['output_type'] = 'display_data';\n",
              "          await google.colab.output.renderOutput(dataTable, element);\n",
              "          const docLink = document.createElement('div');\n",
              "          docLink.innerHTML = docLinkHtml;\n",
              "          element.appendChild(docLink);\n",
              "        }\n",
              "      </script>\n",
              "    </div>\n",
              "  </div>\n",
              "  "
            ]
          },
          "metadata": {},
          "execution_count": 45
        }
      ]
    },
    {
      "cell_type": "code",
      "source": [
        "#Tokenization\n",
        "import nltk\n",
        "nltk.download('punkt')\n",
        "df['tokenized'] = df.apply(lambda row: nltk.word_tokenize(row['without_stop_words']), axis=1)\n",
        "\n",
        "\n",
        "df['text_string'] = df['tokenized'].apply(lambda x: ' '.join([item for item in x if len(item)>2]))\n",
        "all_words = ' '.join([word for word in df['text_string']])\n",
        "tokenized_words = nltk.tokenize.word_tokenize(all_words)\n",
        "from nltk.probability import FreqDist\n",
        "\n",
        "fdist = FreqDist(tokenized_words)\n",
        "df['text_string_fdist'] = df['tokenized'].apply(lambda x: ' '.join([item for item in x if fdist[item] >= 1 ]))\n",
        "\n",
        "\n",
        "#Lemantization\n",
        "nltk.download('wordnet')\n",
        "nltk.download('omw-1.4')\n",
        "\n",
        "from nltk.stem import WordNetLemmatizer\n",
        "\n",
        "wordnet_lem = WordNetLemmatizer()\n",
        "\n",
        "df['text_string_lem'] = df['text_string_fdist'].apply(wordnet_lem.lemmatize)\n",
        "\n",
        "df.head()\n"
      ],
      "metadata": {
        "colab": {
          "base_uri": "https://localhost:8080/",
          "height": 774
        },
        "id": "mVkkzhGRVTtu",
        "outputId": "40c27f2d-e228-4186-ee12-6da8659729a5"
      },
      "execution_count": 46,
      "outputs": [
        {
          "output_type": "stream",
          "name": "stderr",
          "text": [
            "[nltk_data] Downloading package punkt to /root/nltk_data...\n",
            "[nltk_data]   Package punkt is already up-to-date!\n",
            "[nltk_data] Downloading package wordnet to /root/nltk_data...\n",
            "[nltk_data]   Package wordnet is already up-to-date!\n",
            "[nltk_data] Downloading package omw-1.4 to /root/nltk_data...\n",
            "[nltk_data]   Package omw-1.4 is already up-to-date!\n"
          ]
        },
        {
          "output_type": "execute_result",
          "data": {
            "text/plain": [
              "                                            comments  \\\n",
              "0  ï»¿neg ab achanak khawaja saad rafique ko khiy...   \n",
              "1        neg choor kasuri choor jhootay ka moo kaala   \n",
              "2  neg gali gali mein shor hai gaaanjaaaa shair c...   \n",
              "3  neg hum kia aur hamari logic kia bhonkoon k mu...   \n",
              "4  neg imran khan altaf hussain chachoo haroon ab...   \n",
              "\n",
              "                                 without_punctuation Result  \\\n",
              "0   ab achanak khawaja saad rafique ko khiyaal aa...    neg   \n",
              "1            choor kasuri choor jhootay ka moo kaala    neg   \n",
              "2   gali gali mein shor hai gaaanjaaaa shair chor...    neg   \n",
              "3   hum kia aur hamari logic kia bhonkoon k muted...    neg   \n",
              "4   imran khan altaf hussain chachoo haroon ab sa...    neg   \n",
              "\n",
              "                                  without_stop_words  \\\n",
              "0  achanak khawaja saad rafique khiyaal aagaya bh...   \n",
              "1               choor kasuri choor jhootay moo kaala   \n",
              "2          gali gali mein shor gaaanjaaaa shair chor   \n",
              "3  kia hamari logic kia bhonkoon k muted bhonk an...   \n",
              "4  imran khan altaf hussain chachoo haroon sadmey...   \n",
              "\n",
              "                                           tokenized  \\\n",
              "0  [achanak, khawaja, saad, rafique, khiyaal, aag...   \n",
              "1        [choor, kasuri, choor, jhootay, moo, kaala]   \n",
              "2  [gali, gali, mein, shor, gaaanjaaaa, shair, chor]   \n",
              "3  [kia, hamari, logic, kia, bhonkoon, k, muted, ...   \n",
              "4  [imran, khan, altaf, hussain, chachoo, haroon,...   \n",
              "\n",
              "                                         text_string  \\\n",
              "0  achanak khawaja saad rafique khiyaal aagaya bh...   \n",
              "1               choor kasuri choor jhootay moo kaala   \n",
              "2          gali gali mein shor gaaanjaaaa shair chor   \n",
              "3  kia hamari logic kia bhonkoon muted bhonk anda...   \n",
              "4  imran khan altaf hussain chachoo haroon sadmey...   \n",
              "\n",
              "                                   text_string_fdist  \\\n",
              "0  achanak khawaja saad rafique khiyaal aagaya bh...   \n",
              "1               choor kasuri choor jhootay moo kaala   \n",
              "2          gali gali mein shor gaaanjaaaa shair chor   \n",
              "3  kia hamari logic kia bhonkoon muted bhonk anda...   \n",
              "4  imran khan altaf hussain chachoo haroon sadmey...   \n",
              "\n",
              "                                     text_string_lem  \n",
              "0  achanak khawaja saad rafique khiyaal aagaya bh...  \n",
              "1               choor kasuri choor jhootay moo kaala  \n",
              "2          gali gali mein shor gaaanjaaaa shair chor  \n",
              "3  kia hamari logic kia bhonkoon muted bhonk anda...  \n",
              "4  imran khan altaf hussain chachoo haroon sadmey...  "
            ],
            "text/html": [
              "\n",
              "  <div id=\"df-b11ae391-148a-4b5d-80e0-5dbbf5038ef7\">\n",
              "    <div class=\"colab-df-container\">\n",
              "      <div>\n",
              "<style scoped>\n",
              "    .dataframe tbody tr th:only-of-type {\n",
              "        vertical-align: middle;\n",
              "    }\n",
              "\n",
              "    .dataframe tbody tr th {\n",
              "        vertical-align: top;\n",
              "    }\n",
              "\n",
              "    .dataframe thead th {\n",
              "        text-align: right;\n",
              "    }\n",
              "</style>\n",
              "<table border=\"1\" class=\"dataframe\">\n",
              "  <thead>\n",
              "    <tr style=\"text-align: right;\">\n",
              "      <th></th>\n",
              "      <th>comments</th>\n",
              "      <th>without_punctuation</th>\n",
              "      <th>Result</th>\n",
              "      <th>without_stop_words</th>\n",
              "      <th>tokenized</th>\n",
              "      <th>text_string</th>\n",
              "      <th>text_string_fdist</th>\n",
              "      <th>text_string_lem</th>\n",
              "    </tr>\n",
              "  </thead>\n",
              "  <tbody>\n",
              "    <tr>\n",
              "      <th>0</th>\n",
              "      <td>ï»¿neg ab achanak khawaja saad rafique ko khiy...</td>\n",
              "      <td>ab achanak khawaja saad rafique ko khiyaal aa...</td>\n",
              "      <td>neg</td>\n",
              "      <td>achanak khawaja saad rafique khiyaal aagaya bh...</td>\n",
              "      <td>[achanak, khawaja, saad, rafique, khiyaal, aag...</td>\n",
              "      <td>achanak khawaja saad rafique khiyaal aagaya bh...</td>\n",
              "      <td>achanak khawaja saad rafique khiyaal aagaya bh...</td>\n",
              "      <td>achanak khawaja saad rafique khiyaal aagaya bh...</td>\n",
              "    </tr>\n",
              "    <tr>\n",
              "      <th>1</th>\n",
              "      <td>neg choor kasuri choor jhootay ka moo kaala</td>\n",
              "      <td>choor kasuri choor jhootay ka moo kaala</td>\n",
              "      <td>neg</td>\n",
              "      <td>choor kasuri choor jhootay moo kaala</td>\n",
              "      <td>[choor, kasuri, choor, jhootay, moo, kaala]</td>\n",
              "      <td>choor kasuri choor jhootay moo kaala</td>\n",
              "      <td>choor kasuri choor jhootay moo kaala</td>\n",
              "      <td>choor kasuri choor jhootay moo kaala</td>\n",
              "    </tr>\n",
              "    <tr>\n",
              "      <th>2</th>\n",
              "      <td>neg gali gali mein shor hai gaaanjaaaa shair c...</td>\n",
              "      <td>gali gali mein shor hai gaaanjaaaa shair chor...</td>\n",
              "      <td>neg</td>\n",
              "      <td>gali gali mein shor gaaanjaaaa shair chor</td>\n",
              "      <td>[gali, gali, mein, shor, gaaanjaaaa, shair, chor]</td>\n",
              "      <td>gali gali mein shor gaaanjaaaa shair chor</td>\n",
              "      <td>gali gali mein shor gaaanjaaaa shair chor</td>\n",
              "      <td>gali gali mein shor gaaanjaaaa shair chor</td>\n",
              "    </tr>\n",
              "    <tr>\n",
              "      <th>3</th>\n",
              "      <td>neg hum kia aur hamari logic kia bhonkoon k mu...</td>\n",
              "      <td>hum kia aur hamari logic kia bhonkoon k muted...</td>\n",
              "      <td>neg</td>\n",
              "      <td>kia hamari logic kia bhonkoon k muted bhonk an...</td>\n",
              "      <td>[kia, hamari, logic, kia, bhonkoon, k, muted, ...</td>\n",
              "      <td>kia hamari logic kia bhonkoon muted bhonk anda...</td>\n",
              "      <td>kia hamari logic kia bhonkoon muted bhonk anda...</td>\n",
              "      <td>kia hamari logic kia bhonkoon muted bhonk anda...</td>\n",
              "    </tr>\n",
              "    <tr>\n",
              "      <th>4</th>\n",
              "      <td>neg imran khan altaf hussain chachoo haroon ab...</td>\n",
              "      <td>imran khan altaf hussain chachoo haroon ab sa...</td>\n",
              "      <td>neg</td>\n",
              "      <td>imran khan altaf hussain chachoo haroon sadmey...</td>\n",
              "      <td>[imran, khan, altaf, hussain, chachoo, haroon,...</td>\n",
              "      <td>imran khan altaf hussain chachoo haroon sadmey...</td>\n",
              "      <td>imran khan altaf hussain chachoo haroon sadmey...</td>\n",
              "      <td>imran khan altaf hussain chachoo haroon sadmey...</td>\n",
              "    </tr>\n",
              "  </tbody>\n",
              "</table>\n",
              "</div>\n",
              "      <button class=\"colab-df-convert\" onclick=\"convertToInteractive('df-b11ae391-148a-4b5d-80e0-5dbbf5038ef7')\"\n",
              "              title=\"Convert this dataframe to an interactive table.\"\n",
              "              style=\"display:none;\">\n",
              "        \n",
              "  <svg xmlns=\"http://www.w3.org/2000/svg\" height=\"24px\"viewBox=\"0 0 24 24\"\n",
              "       width=\"24px\">\n",
              "    <path d=\"M0 0h24v24H0V0z\" fill=\"none\"/>\n",
              "    <path d=\"M18.56 5.44l.94 2.06.94-2.06 2.06-.94-2.06-.94-.94-2.06-.94 2.06-2.06.94zm-11 1L8.5 8.5l.94-2.06 2.06-.94-2.06-.94L8.5 2.5l-.94 2.06-2.06.94zm10 10l.94 2.06.94-2.06 2.06-.94-2.06-.94-.94-2.06-.94 2.06-2.06.94z\"/><path d=\"M17.41 7.96l-1.37-1.37c-.4-.4-.92-.59-1.43-.59-.52 0-1.04.2-1.43.59L10.3 9.45l-7.72 7.72c-.78.78-.78 2.05 0 2.83L4 21.41c.39.39.9.59 1.41.59.51 0 1.02-.2 1.41-.59l7.78-7.78 2.81-2.81c.8-.78.8-2.07 0-2.86zM5.41 20L4 18.59l7.72-7.72 1.47 1.35L5.41 20z\"/>\n",
              "  </svg>\n",
              "      </button>\n",
              "      \n",
              "  <style>\n",
              "    .colab-df-container {\n",
              "      display:flex;\n",
              "      flex-wrap:wrap;\n",
              "      gap: 12px;\n",
              "    }\n",
              "\n",
              "    .colab-df-convert {\n",
              "      background-color: #E8F0FE;\n",
              "      border: none;\n",
              "      border-radius: 50%;\n",
              "      cursor: pointer;\n",
              "      display: none;\n",
              "      fill: #1967D2;\n",
              "      height: 32px;\n",
              "      padding: 0 0 0 0;\n",
              "      width: 32px;\n",
              "    }\n",
              "\n",
              "    .colab-df-convert:hover {\n",
              "      background-color: #E2EBFA;\n",
              "      box-shadow: 0px 1px 2px rgba(60, 64, 67, 0.3), 0px 1px 3px 1px rgba(60, 64, 67, 0.15);\n",
              "      fill: #174EA6;\n",
              "    }\n",
              "\n",
              "    [theme=dark] .colab-df-convert {\n",
              "      background-color: #3B4455;\n",
              "      fill: #D2E3FC;\n",
              "    }\n",
              "\n",
              "    [theme=dark] .colab-df-convert:hover {\n",
              "      background-color: #434B5C;\n",
              "      box-shadow: 0px 1px 3px 1px rgba(0, 0, 0, 0.15);\n",
              "      filter: drop-shadow(0px 1px 2px rgba(0, 0, 0, 0.3));\n",
              "      fill: #FFFFFF;\n",
              "    }\n",
              "  </style>\n",
              "\n",
              "      <script>\n",
              "        const buttonEl =\n",
              "          document.querySelector('#df-b11ae391-148a-4b5d-80e0-5dbbf5038ef7 button.colab-df-convert');\n",
              "        buttonEl.style.display =\n",
              "          google.colab.kernel.accessAllowed ? 'block' : 'none';\n",
              "\n",
              "        async function convertToInteractive(key) {\n",
              "          const element = document.querySelector('#df-b11ae391-148a-4b5d-80e0-5dbbf5038ef7');\n",
              "          const dataTable =\n",
              "            await google.colab.kernel.invokeFunction('convertToInteractive',\n",
              "                                                     [key], {});\n",
              "          if (!dataTable) return;\n",
              "\n",
              "          const docLinkHtml = 'Like what you see? Visit the ' +\n",
              "            '<a target=\"_blank\" href=https://colab.research.google.com/notebooks/data_table.ipynb>data table notebook</a>'\n",
              "            + ' to learn more about interactive tables.';\n",
              "          element.innerHTML = '';\n",
              "          dataTable['output_type'] = 'display_data';\n",
              "          await google.colab.output.renderOutput(dataTable, element);\n",
              "          const docLink = document.createElement('div');\n",
              "          docLink.innerHTML = docLinkHtml;\n",
              "          element.appendChild(docLink);\n",
              "        }\n",
              "      </script>\n",
              "    </div>\n",
              "  </div>\n",
              "  "
            ]
          },
          "metadata": {},
          "execution_count": 46
        }
      ]
    },
    {
      "cell_type": "code",
      "source": [
        "\n",
        "X=df['text_string']\n",
        "\n",
        "y =df['Result']\n",
        "\n",
        "df2 = pd.DataFrame().assign(tweet=df['text_string'], output=df['Result'])\n",
        "\n",
        "df2.head()\n",
        "\n",
        "train, test = train_test_split(df2, test_size = 0.2, stratify = df2['output'], random_state=21)\n",
        "\n",
        "# get the shape of train and test split.\n",
        "train.shape, test.shape\n"
      ],
      "metadata": {
        "colab": {
          "base_uri": "https://localhost:8080/"
        },
        "id": "5hr4TqTGVXaZ",
        "outputId": "6665ed28-7ec9-4d2b-f6fc-aca1e9b7f879"
      },
      "execution_count": 47,
      "outputs": [
        {
          "output_type": "execute_result",
          "data": {
            "text/plain": [
              "((7379, 2), (1845, 2))"
            ]
          },
          "metadata": {},
          "execution_count": 47
        }
      ]
    },
    {
      "cell_type": "code",
      "source": [
        "tfidf_vectorizer = TfidfVectorizer(lowercase= True, max_features=1000, stop_words=stop_extended)\n",
        "\n",
        "# fit the object with the training data tweets\n",
        "tfidf_vectorizer.fit(train.tweet)"
      ],
      "metadata": {
        "colab": {
          "base_uri": "https://localhost:8080/"
        },
        "id": "nxXLjhhNXYwg",
        "outputId": "88d9ca8b-9e85-4303-db17-a89d1913c632"
      },
      "execution_count": 48,
      "outputs": [
        {
          "output_type": "execute_result",
          "data": {
            "text/plain": [
              "TfidfVectorizer(max_features=1000,\n",
              "                stop_words=['ai', 'ayi', 'hy', 'hai', 'main', 'ki', 'tha',\n",
              "                            'koi', 'ko', 'sy', 'woh', 'bhi', 'aur', 'wo', 'yeh',\n",
              "                            'rha', 'hota', 'ho', 'ga', 'ka', 'le', 'lye', 'kr',\n",
              "                            'kar', 'lye', 'liye', 'hotay', 'waisay', 'gya',\n",
              "                            'gaya', ...])"
            ]
          },
          "metadata": {},
          "execution_count": 48
        }
      ]
    },
    {
      "cell_type": "code",
      "source": [
        "train_idf = tfidf_vectorizer.transform(train.tweet)\n",
        "test_idf  = tfidf_vectorizer.transform(test.tweet)"
      ],
      "metadata": {
        "id": "Mp3qSNlgXoUy"
      },
      "execution_count": 49,
      "outputs": []
    },
    {
      "cell_type": "code",
      "source": [
        "model_LR = LogisticRegression()\n",
        "\n",
        "# fit the model with the training data\n",
        "model_LR.fit(train_idf, train.output)\n",
        "\n",
        "# predict the label on the traning data\n",
        "predict_train = model_LR.predict(train_idf)\n",
        "\n",
        "# predict the model on the test data\n",
        "predict_test = model_LR.predict(test_idf)\n",
        "\n",
        "print (f1_score(y_true= train.output, y_pred= predict_train,average=\"binary\", pos_label=\"pos\"))\n",
        "\n",
        "print (f1_score(y_true= test.output, y_pred= predict_test,average=\"binary\", pos_label=\"pos\"))\n"
      ],
      "metadata": {
        "colab": {
          "base_uri": "https://localhost:8080/"
        },
        "id": "Pz5ioPjTXqEu",
        "outputId": "513ac5e6-a133-4ed0-8f4a-480b248faa19"
      },
      "execution_count": 50,
      "outputs": [
        {
          "output_type": "stream",
          "name": "stdout",
          "text": [
            "0.843159922928709\n",
            "0.7697063369397218\n"
          ]
        }
      ]
    },
    {
      "cell_type": "code",
      "source": [
        "pipeline = Pipeline(steps= [('tfidf', TfidfVectorizer(lowercase=True,\n",
        "                                                      max_features=1000,\n",
        "                                                      stop_words= stop_extended)),\n",
        "                            ('model', LogisticRegression())])\n",
        "\n",
        "# fit the pipeline model with the training data                            \n",
        "pipeline.fit(train.tweet, train.output)"
      ],
      "metadata": {
        "colab": {
          "base_uri": "https://localhost:8080/"
        },
        "id": "8zbd54ulYgjN",
        "outputId": "cfa9d3fb-0fb1-4182-bc1e-866ce8db3794"
      },
      "execution_count": 51,
      "outputs": [
        {
          "output_type": "execute_result",
          "data": {
            "text/plain": [
              "Pipeline(steps=[('tfidf',\n",
              "                 TfidfVectorizer(max_features=1000,\n",
              "                                 stop_words=['ai', 'ayi', 'hy', 'hai', 'main',\n",
              "                                             'ki', 'tha', 'koi', 'ko', 'sy',\n",
              "                                             'woh', 'bhi', 'aur', 'wo', 'yeh',\n",
              "                                             'rha', 'hota', 'ho', 'ga', 'ka',\n",
              "                                             'le', 'lye', 'kr', 'kar', 'lye',\n",
              "                                             'liye', 'hotay', 'waisay', 'gya',\n",
              "                                             'gaya', ...])),\n",
              "                ('model', LogisticRegression())])"
            ]
          },
          "metadata": {},
          "execution_count": 51
        }
      ]
    },
    {
      "cell_type": "code",
      "source": [
        "text = [\"oppo nahi lena\"]\n",
        "\n",
        "# predict the label using the pipeline\n",
        "pipeline.predict(text)"
      ],
      "metadata": {
        "colab": {
          "base_uri": "https://localhost:8080/"
        },
        "id": "J6be8GNrYsRN",
        "outputId": "a79b44b3-8b7d-47a4-8fff-c7998de4e9b4"
      },
      "execution_count": 52,
      "outputs": [
        {
          "output_type": "execute_result",
          "data": {
            "text/plain": [
              "array(['neg'], dtype=object)"
            ]
          },
          "metadata": {},
          "execution_count": 52
        }
      ]
    },
    {
      "cell_type": "code",
      "source": [
        "from joblib import dump\n",
        "\n",
        "# dump the pipeline model\n",
        "dump(pipeline, filename=\"text_classification.joblib\")"
      ],
      "metadata": {
        "colab": {
          "base_uri": "https://localhost:8080/"
        },
        "id": "tmNbMF_7ZGkP",
        "outputId": "1cfc27e7-8621-4959-feae-7521c431a3cc"
      },
      "execution_count": 53,
      "outputs": [
        {
          "output_type": "execute_result",
          "data": {
            "text/plain": [
              "['text_classification.joblib']"
            ]
          },
          "metadata": {},
          "execution_count": 53
        }
      ]
    },
    {
      "cell_type": "code",
      "source": [
        ""
      ],
      "metadata": {
        "id": "sHruKhzuZMIo"
      },
      "execution_count": 53,
      "outputs": []
    },
    {
      "cell_type": "code",
      "source": [
        ""
      ],
      "metadata": {
        "id": "wNVpLXyrZTL6"
      },
      "execution_count": 53,
      "outputs": []
    }
  ]
}