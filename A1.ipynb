{
  "nbformat": 4,
  "nbformat_minor": 0,
  "metadata": {
    "colab": {
      "name": "A1.ipynb",
      "provenance": [],
      "collapsed_sections": []
    },
    "kernelspec": {
      "name": "python3",
      "display_name": "Python 3"
    },
    "accelerator": "GPU"
  },
  "cells": [
    {
      "metadata": {
        "id": "DWQVJtT2uBSG"
      },
      "cell_type": "code",
      "source": [
        "import numpy as np\n",
        "import pandas as pd\n",
        "import seaborn as sns"
      ],
      "execution_count": null,
      "outputs": []
    },
    {
      "metadata": {
        "id": "3RA46huZgyOj"
      },
      "cell_type": "code",
      "source": [
        "!wget https://raw.githubusercontent.com/Data-Science-FMI/ml-from-scratch-2019/master/data/house_prices_train.csv"
      ],
      "execution_count": null,
      "outputs": []
    },
    {
      "metadata": {
        "id": "P_jaLzJnqT_y"
      },
      "cell_type": "code",
      "source": [
        "df = pd.read_csv('house_prices_train.csv')"
      ],
      "execution_count": null,
      "outputs": []
    },
    {
      "metadata": {
        "id": "X60KNF9RTyEu"
      },
      "cell_type": "markdown",
      "source": [
        "# Data exploration"
      ]
    },
    {
      "metadata": {
        "id": "4YSv7SqUR6bd"
      },
      "cell_type": "code",
      "source": [
        "df['SalePrice'].describe()"
      ],
      "execution_count": null,
      "outputs": []
    },
    {
      "metadata": {
        "id": "I7ykRIwOVxBa"
      },
      "cell_type": "code",
      "source": [
        "sns.histplot(df['SalePrice']);"
      ],
      "execution_count": null,
      "outputs": []
    },
    {
      "metadata": {
        "id": "K9oqWbmaWWjn"
      },
      "cell_type": "code",
      "source": [
        "cor = df.corr()\n",
        "sns.heatmap(cor, vmax=.8, square=True);"
      ],
      "execution_count": null,
      "outputs": []
    },
    {
      "metadata": {
        "id": "UPfBNvltZ7Cl"
      },
      "cell_type": "code",
      "source": [
        "t = df.isnull().sum().sort_values(ascending=False)\n",
        "p = (df.isnull().sum()/df.isnull().count()).sort_values(ascending=False)\n",
        "missing_data = pd.concat([t, p], axis=1, keys=['Total', 'Percent'])\n",
        "missing_data.head(20)"
      ],
      "execution_count": null,
      "outputs": []
    },
    {
      "cell_type": "code",
      "source": [
        "df=df.fillna(0.5)\n",
        "t = df.isnull().sum().sort_values(ascending=False)\n",
        "p = (df.isnull().sum()/df.isnull().count()).sort_values(ascending=False)\n",
        "missing_data = pd.concat([t, p], axis=1, keys=['Total', 'Percent'])\n",
        "missing_data.head(20)"
      ],
      "metadata": {
        "id": "mK9cGmFWgkD9"
      },
      "execution_count": null,
      "outputs": []
    },
    {
      "metadata": {
        "id": "JmEcYWkaqYDg"
      },
      "cell_type": "code",
      "source": [
        "\n",
        "y = df['SalePrice']\n",
        "x = df[['LotFrontage','LotArea','OverallQual','MasVnrArea','GrLivArea']]"
      ],
      "execution_count": null,
      "outputs": []
    },
    {
      "metadata": {
        "id": "Of3yF9vhEhLv"
      },
      "cell_type": "code",
      "source": [
        "\n",
        "from sklearn.linear_model import LinearRegression\n",
        "model = LinearRegression().fit(x, y)"
      ],
      "execution_count": null,
      "outputs": []
    },
    {
      "cell_type": "code",
      "source": [
        "r_sq = model.score(x, y)\n",
        "print(f\"coefficient of determination: {r_sq}\")\n",
        "print(f\"intercept: {model.intercept_}\")\n",
        "print(f\"slope: {model.coef_}\")"
      ],
      "metadata": {
        "id": "yaviZDRY-oHM"
      },
      "execution_count": null,
      "outputs": []
    },
    {
      "cell_type": "code",
      "source": [
        "\n",
        "from sklearn.model_selection import KFold, cross_val_score\n",
        "k_folds = KFold(n_splits = 5)\n",
        "scores = cross_val_score(model, x, y, cv = k_folds)\n",
        "print(\"Cross Validation Scores: \", scores)"
      ],
      "metadata": {
        "id": "sMgNw5ai_44X"
      },
      "execution_count": null,
      "outputs": []
    },
    {
      "cell_type": "code",
      "source": [
        "model.predict([[60,40,30,43,65]])"
      ],
      "metadata": {
        "id": "8QhCvBlOMJTz"
      },
      "execution_count": null,
      "outputs": []
    }
  ]
}